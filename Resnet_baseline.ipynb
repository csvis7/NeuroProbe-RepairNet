{
  "nbformat": 4,
  "nbformat_minor": 0,
  "metadata": {
    "colab": {
      "provenance": [],
      "gpuType": "T4",
      "authorship_tag": "ABX9TyMR/U0fxtqqzV6WYmIzNmkC",
      "include_colab_link": true
    },
    "kernelspec": {
      "name": "python3",
      "display_name": "Python 3"
    },
    "language_info": {
      "name": "python"
    },
    "accelerator": "GPU"
  },
  "cells": [
    {
      "cell_type": "markdown",
      "metadata": {
        "id": "view-in-github",
        "colab_type": "text"
      },
      "source": [
        "<a href=\"https://colab.research.google.com/github/csvis7/NeuroProbe-RepairNet/blob/main/Resnet_baseline.ipynb\" target=\"_parent\"><img src=\"https://colab.research.google.com/assets/colab-badge.svg\" alt=\"Open In Colab\"/></a>"
      ]
    },
    {
      "cell_type": "code",
      "execution_count": null,
      "metadata": {
        "colab": {
          "base_uri": "https://localhost:8080/"
        },
        "id": "aQ57M8bWZ9iZ",
        "outputId": "cac3d302-b5e7-496e-c163-482b0c90626f"
      },
      "outputs": [
        {
          "output_type": "stream",
          "name": "stdout",
          "text": [
            "Cloning into 'NeuroProbe-RepairNet'...\n",
            "remote: Enumerating objects: 70, done.\u001b[K\n",
            "remote: Counting objects: 100% (70/70), done.\u001b[K\n",
            "remote: Compressing objects: 100% (47/47), done.\u001b[K\n",
            "remote: Total 70 (delta 23), reused 57 (delta 13), pack-reused 0 (from 0)\u001b[K\n",
            "Receiving objects: 100% (70/70), 12.05 KiB | 2.41 MiB/s, done.\n",
            "Resolving deltas: 100% (23/23), done.\n"
          ]
        }
      ],
      "source": [
        "!git clone https://github.com/csvis7/NeuroProbe-RepairNet.git"
      ]
    },
    {
      "cell_type": "code",
      "source": [
        "%cd /content/NeuroProbe-RepairNet\n"
      ],
      "metadata": {
        "colab": {
          "base_uri": "https://localhost:8080/"
        },
        "id": "DZG1flNkaIOU",
        "outputId": "293fd7c1-c3ca-4b6b-94c0-32469a719ba8"
      },
      "execution_count": null,
      "outputs": [
        {
          "output_type": "stream",
          "name": "stdout",
          "text": [
            "/content/NeuroProbe-RepairNet\n"
          ]
        }
      ]
    },
    {
      "cell_type": "code",
      "source": [
        "!ls\n"
      ],
      "metadata": {
        "colab": {
          "base_uri": "https://localhost:8080/"
        },
        "id": "K7UncqQYahxu",
        "outputId": "cadce3d1-fa03-4269-c86e-25a9d567ba9c"
      },
      "execution_count": null,
      "outputs": [
        {
          "output_type": "stream",
          "name": "stdout",
          "text": [
            "configs  experiments  NeuroProbe-RepairNet  README.md\t      src\n",
            "data\t LICENSE      notebooks\t\t    requirements.txt  wandb\n"
          ]
        }
      ]
    },
    {
      "cell_type": "code",
      "source": [
        "!python src/train/runner.py --config configs/baseline.yaml\n"
      ],
      "metadata": {
        "colab": {
          "base_uri": "https://localhost:8080/"
        },
        "id": "Y4zwK8jxajhN",
        "outputId": "caceac51-93ac-4f6a-9084-3210e8da41bc"
      },
      "execution_count": null,
      "outputs": [
        {
          "output_type": "stream",
          "name": "stdout",
          "text": [
            "python3: can't open file '/content/NeuroProbe-RepairNet/src/train/runner.py': [Errno 2] No such file or directory\n"
          ]
        }
      ]
    },
    {
      "cell_type": "code",
      "source": [
        "!python src/runner.py --config configs/baseline.yaml\n"
      ],
      "metadata": {
        "colab": {
          "base_uri": "https://localhost:8080/"
        },
        "id": "x16xrlribC0D",
        "outputId": "03611765-6c56-4d83-cbb5-6f81ea3a2c3e"
      },
      "execution_count": null,
      "outputs": [
        {
          "output_type": "stream",
          "name": "stdout",
          "text": [
            "✅ Starting training with config:\n",
            "{'project': 'neuroprobe-baseline', 'model': 'resnet18', 'dataset': 'CIFAR10', 'seed': 42, 'device': 'cuda', 'training': {'epochs': 5, 'batch_size': 128, 'lr': 0.001, 'optimizer': 'adam', 'weight_decay': 0.0001}, 'experiment_dir': 'experiments/baseline', 'wandb': {'project': 'neuroprobe-baseline', 'run_name': 'resnet18-cifar10-baseline'}}\n",
            "\u001b[34m\u001b[1mwandb\u001b[0m: Currently logged in as: \u001b[33mcsvisrout\u001b[0m (\u001b[33mcsvisrout-silicon-institute-of-technology-bhubaneswar\u001b[0m) to \u001b[32mhttps://api.wandb.ai\u001b[0m. Use \u001b[1m`wandb login --relogin`\u001b[0m to force relogin\n",
            "\u001b[34m\u001b[1mwandb\u001b[0m: \u001b[38;5;178m⢿\u001b[0m Waiting for wandb.init()...\n",
            "\u001b[34m\u001b[1mwandb\u001b[0m: \u001b[38;5;178m⣻\u001b[0m Waiting for wandb.init()...\n",
            "\u001b[34m\u001b[1mwandb\u001b[0m: \u001b[38;5;178m⣽\u001b[0m setting up run yblbe5mf (0.3s)\n",
            "\u001b[34m\u001b[1mwandb\u001b[0m: \u001b[38;5;178m⣾\u001b[0m setting up run yblbe5mf (0.3s)\n",
            "\u001b[34m\u001b[1mwandb\u001b[0m: Tracking run with wandb version 0.22.2\n",
            "\u001b[34m\u001b[1mwandb\u001b[0m: Run data is saved locally in \u001b[35m\u001b[1m/content/NeuroProbe-RepairNet/wandb/run-20251023_134910-yblbe5mf\u001b[0m\n",
            "\u001b[34m\u001b[1mwandb\u001b[0m: Run \u001b[1m`wandb offline`\u001b[0m to turn off syncing.\n",
            "\u001b[34m\u001b[1mwandb\u001b[0m: Syncing run \u001b[33mresnet18-cifar10-baseline\u001b[0m\n",
            "\u001b[34m\u001b[1mwandb\u001b[0m: ⭐️ View project at \u001b[34m\u001b[4mhttps://wandb.ai/csvisrout-silicon-institute-of-technology-bhubaneswar/neuroprobe-baseline\u001b[0m\n",
            "\u001b[34m\u001b[1mwandb\u001b[0m: 🚀 View run at \u001b[34m\u001b[4mhttps://wandb.ai/csvisrout-silicon-institute-of-technology-bhubaneswar/neuroprobe-baseline/runs/yblbe5mf\u001b[0m\n",
            "Epoch [1/5]: Train Acc: 31.98% | Val Acc: 42.48%\n",
            "Epoch [2/5]: Train Acc: 43.62% | Val Acc: 49.54%\n",
            "Epoch [3/5]: Train Acc: 48.77% | Val Acc: 53.13%\n",
            "Epoch [4/5]: Train Acc: 52.15% | Val Acc: 54.15%\n",
            "Epoch [5/5]: Train Acc: 55.15% | Val Acc: 57.23%\n",
            "✅ Training complete. Best Val Acc: 57.23%\n",
            "\u001b[34m\u001b[1mwandb\u001b[0m: \u001b[38;5;178m⢿\u001b[0m updating run metadata (0.0s)\n",
            "\u001b[34m\u001b[1mwandb\u001b[0m: \u001b[38;5;178m⣻\u001b[0m updating run metadata (0.0s)\n",
            "\u001b[34m\u001b[1mwandb\u001b[0m: \u001b[38;5;178m⣽\u001b[0m updating run metadata (0.0s)\n",
            "\u001b[34m\u001b[1mwandb\u001b[0m: \u001b[38;5;178m⣾\u001b[0m updating run metadata (0.0s)\n",
            "\u001b[34m\u001b[1mwandb\u001b[0m: \u001b[38;5;178m⣷\u001b[0m updating run metadata (0.0s)\n",
            "\u001b[34m\u001b[1mwandb\u001b[0m: \u001b[38;5;178m⣯\u001b[0m updating run metadata (0.0s)\n",
            "\u001b[34m\u001b[1mwandb\u001b[0m: \u001b[38;5;178m⣟\u001b[0m updating run metadata (0.0s)\n",
            "\u001b[34m\u001b[1mwandb\u001b[0m: \u001b[38;5;178m⡿\u001b[0m updating run metadata (0.0s)\n",
            "\u001b[34m\u001b[1mwandb\u001b[0m: \u001b[38;5;178m⢿\u001b[0m updating run metadata (0.0s)\n",
            "\u001b[34m\u001b[1mwandb\u001b[0m: \u001b[38;5;178m⣻\u001b[0m uploading history steps 4-4, summary, console lines 4-5 (0.1s)\n",
            "\u001b[34m\u001b[1mwandb\u001b[0m: \n",
            "\u001b[34m\u001b[1mwandb\u001b[0m: Run history:\n",
            "\u001b[34m\u001b[1mwandb\u001b[0m:      epoch ▁▃▅▆█\n",
            "\u001b[34m\u001b[1mwandb\u001b[0m:         lr ▁▁▁▁▁\n",
            "\u001b[34m\u001b[1mwandb\u001b[0m:  train_acc ▁▅▆▇█\n",
            "\u001b[34m\u001b[1mwandb\u001b[0m: train_loss █▄▃▂▁\n",
            "\u001b[34m\u001b[1mwandb\u001b[0m:    val_acc ▁▄▆▇█\n",
            "\u001b[34m\u001b[1mwandb\u001b[0m:   val_loss █▅▃▃▁\n",
            "\u001b[34m\u001b[1mwandb\u001b[0m: \n",
            "\u001b[34m\u001b[1mwandb\u001b[0m: Run summary:\n",
            "\u001b[34m\u001b[1mwandb\u001b[0m:      epoch 5\n",
            "\u001b[34m\u001b[1mwandb\u001b[0m:         lr 0.001\n",
            "\u001b[34m\u001b[1mwandb\u001b[0m:  train_acc 55.152\n",
            "\u001b[34m\u001b[1mwandb\u001b[0m: train_loss 1.24595\n",
            "\u001b[34m\u001b[1mwandb\u001b[0m:    val_acc 57.23\n",
            "\u001b[34m\u001b[1mwandb\u001b[0m:   val_loss 1.18739\n",
            "\u001b[34m\u001b[1mwandb\u001b[0m: \n",
            "\u001b[34m\u001b[1mwandb\u001b[0m: 🚀 View run \u001b[33mresnet18-cifar10-baseline\u001b[0m at: \u001b[34m\u001b[4mhttps://wandb.ai/csvisrout-silicon-institute-of-technology-bhubaneswar/neuroprobe-baseline/runs/yblbe5mf\u001b[0m\n",
            "\u001b[34m\u001b[1mwandb\u001b[0m: ⭐️ View project at: \u001b[34m\u001b[4mhttps://wandb.ai/csvisrout-silicon-institute-of-technology-bhubaneswar/neuroprobe-baseline\u001b[0m\n",
            "\u001b[34m\u001b[1mwandb\u001b[0m: Synced 5 W&B file(s), 0 media file(s), 0 artifact file(s) and 0 other file(s)\n",
            "\u001b[34m\u001b[1mwandb\u001b[0m: Find logs at: \u001b[35m\u001b[1m./wandb/run-20251023_134910-yblbe5mf/logs\u001b[0m\n"
          ]
        }
      ]
    },
    {
      "cell_type": "code",
      "source": [
        "!cat configs/baseline.yaml\n"
      ],
      "metadata": {
        "colab": {
          "base_uri": "https://localhost:8080/"
        },
        "id": "K2SY1je_J8fB",
        "outputId": "a424004a-3bc3-46af-81d9-daff984cd5cb"
      },
      "execution_count": null,
      "outputs": [
        {
          "output_type": "stream",
          "name": "stdout",
          "text": [
            "project: \"neuroprobe-baseline\"\n",
            "model: \"resnet18\"\n",
            "dataset: \"CIFAR10\"\n",
            "seed: 42\n",
            "device: \"cuda\"\n",
            "training:\n",
            "  epochs: 5\n",
            "  batch_size: 128\n",
            "  lr: 0.001\n",
            "  optimizer: \"adam\"\n",
            "  weight_decay: 0.0001\n",
            "\n",
            "experiment_dir: \"experiments/baseline\"\n",
            "\n",
            "wandb:\n",
            "  project: \"neuroprobe-baseline\"\n",
            "  run_name: \"resnet18-cifar10-baseline\"\n"
          ]
        }
      ]
    },
    {
      "cell_type": "code",
      "source": [
        "!git pull origin main"
      ],
      "metadata": {
        "colab": {
          "base_uri": "https://localhost:8080/"
        },
        "id": "FIpCgocnLNRh",
        "outputId": "da184111-eb7b-467e-bb11-4ea8d61fe28a"
      },
      "execution_count": null,
      "outputs": [
        {
          "output_type": "stream",
          "name": "stdout",
          "text": [
            "From https://github.com/csvis7/NeuroProbe-RepairNet\n",
            " * branch            main       -> FETCH_HEAD\n",
            "Already up to date.\n"
          ]
        }
      ]
    },
    {
      "cell_type": "code",
      "source": [
        "!cat configs/baseline.yaml"
      ],
      "metadata": {
        "colab": {
          "base_uri": "https://localhost:8080/"
        },
        "id": "0GtBLt3TLZJH",
        "outputId": "df0b1609-2976-4210-82e9-ecb4589e68cc"
      },
      "execution_count": null,
      "outputs": [
        {
          "output_type": "stream",
          "name": "stdout",
          "text": [
            "project: \"neuroprobe-baseline\"\n",
            "model: \"resnet18\"\n",
            "dataset: \"CIFAR10\"\n",
            "seed: 42\n",
            "device: \"cuda\"\n",
            "training:\n",
            "  epochs: 5\n",
            "  batch_size: 128\n",
            "  lr: 0.001\n",
            "  optimizer: \"adam\"\n",
            "  weight_decay: 0.0001\n",
            "\n",
            "experiment_dir: \"experiments/baseline\"\n",
            "\n",
            "wandb:\n",
            "  project: \"neuroprobe-baseline\"\n",
            "  run_name: \"resnet18-cifar10-baseline\"\n"
          ]
        }
      ]
    },
    {
      "cell_type": "code",
      "source": [
        "!python src/runner.py --config configs/baseline.yaml\n"
      ],
      "metadata": {
        "colab": {
          "base_uri": "https://localhost:8080/"
        },
        "id": "cyNRqcsnLdaa",
        "outputId": "91c4e967-2954-4120-a802-5ec775678916"
      },
      "execution_count": null,
      "outputs": [
        {
          "output_type": "stream",
          "name": "stdout",
          "text": [
            "✅ Starting training with config:\n",
            "{'project': 'neuroprobe-baseline', 'model': 'resnet18', 'dataset': 'CIFAR10', 'seed': 42, 'device': 'cuda', 'training': {'epochs': 5, 'batch_size': 128, 'lr': 0.001, 'optimizer': 'adam', 'weight_decay': 0.0001}, 'experiment_dir': 'experiments/baseline', 'wandb': {'project': 'neuroprobe-baseline', 'run_name': 'resnet18-cifar10-baseline'}}\n",
            "\u001b[34m\u001b[1mwandb\u001b[0m: Currently logged in as: \u001b[33mcsvisrout\u001b[0m (\u001b[33mcsvisrout-silicon-institute-of-technology-bhubaneswar\u001b[0m) to \u001b[32mhttps://api.wandb.ai\u001b[0m. Use \u001b[1m`wandb login --relogin`\u001b[0m to force relogin\n",
            "\u001b[34m\u001b[1mwandb\u001b[0m: \u001b[38;5;178m⢿\u001b[0m Waiting for wandb.init()...\n",
            "\u001b[34m\u001b[1mwandb\u001b[0m: \u001b[38;5;178m⣻\u001b[0m Waiting for wandb.init()...\n",
            "\u001b[34m\u001b[1mwandb\u001b[0m: \u001b[38;5;178m⣽\u001b[0m setting up run mddzd35q (0.3s)\n",
            "\u001b[34m\u001b[1mwandb\u001b[0m: Tracking run with wandb version 0.22.2\n",
            "\u001b[34m\u001b[1mwandb\u001b[0m: Run data is saved locally in \u001b[35m\u001b[1m/content/NeuroProbe-RepairNet/wandb/run-20251023_131820-mddzd35q\u001b[0m\n",
            "\u001b[34m\u001b[1mwandb\u001b[0m: Run \u001b[1m`wandb offline`\u001b[0m to turn off syncing.\n",
            "\u001b[34m\u001b[1mwandb\u001b[0m: Syncing run \u001b[33mresnet18-cifar10-baseline\u001b[0m\n",
            "\u001b[34m\u001b[1mwandb\u001b[0m: ⭐️ View project at \u001b[34m\u001b[4mhttps://wandb.ai/csvisrout-silicon-institute-of-technology-bhubaneswar/neuroprobe-baseline\u001b[0m\n",
            "\u001b[34m\u001b[1mwandb\u001b[0m: 🚀 View run at \u001b[34m\u001b[4mhttps://wandb.ai/csvisrout-silicon-institute-of-technology-bhubaneswar/neuroprobe-baseline/runs/mddzd35q\u001b[0m\n",
            "Epoch [1/5]: Train Acc: 31.98% | Val Acc: 42.48%\n",
            "Epoch [2/5]: Train Acc: 43.62% | Val Acc: 49.54%\n",
            "Epoch [3/5]: Train Acc: 48.77% | Val Acc: 53.13%\n",
            "Epoch [4/5]: Train Acc: 52.15% | Val Acc: 54.15%\n",
            "Epoch [5/5]: Train Acc: 55.15% | Val Acc: 57.23%\n",
            "✅ Training complete. Best Val Acc: 57.23%\n",
            "\u001b[34m\u001b[1mwandb\u001b[0m: \u001b[38;5;178m⢿\u001b[0m updating run metadata (0.0s)\n",
            "\u001b[34m\u001b[1mwandb\u001b[0m: \u001b[38;5;178m⣻\u001b[0m updating run metadata (0.0s)\n",
            "\u001b[34m\u001b[1mwandb\u001b[0m: \u001b[38;5;178m⣽\u001b[0m updating run metadata (0.0s)\n",
            "\u001b[34m\u001b[1mwandb\u001b[0m: \u001b[38;5;178m⣾\u001b[0m updating run metadata (0.0s)\n",
            "\u001b[34m\u001b[1mwandb\u001b[0m: \u001b[38;5;178m⣷\u001b[0m updating run metadata (0.0s)\n",
            "\u001b[34m\u001b[1mwandb\u001b[0m: \u001b[38;5;178m⣯\u001b[0m updating run metadata (0.0s)\n",
            "\u001b[34m\u001b[1mwandb\u001b[0m: \u001b[38;5;178m⣟\u001b[0m updating run metadata (0.0s)\n",
            "\u001b[34m\u001b[1mwandb\u001b[0m: \u001b[38;5;178m⡿\u001b[0m updating run metadata (0.0s)\n",
            "\u001b[34m\u001b[1mwandb\u001b[0m: \u001b[38;5;178m⢿\u001b[0m updating run metadata (0.0s)\n",
            "\u001b[34m\u001b[1mwandb\u001b[0m: \u001b[38;5;178m⣻\u001b[0m uploading history steps 4-4, summary, console lines 4-5 (0.1s)\n",
            "\u001b[34m\u001b[1mwandb\u001b[0m: \n",
            "\u001b[34m\u001b[1mwandb\u001b[0m: Run history:\n",
            "\u001b[34m\u001b[1mwandb\u001b[0m:      epoch ▁▃▅▆█\n",
            "\u001b[34m\u001b[1mwandb\u001b[0m:         lr ▁▁▁▁▁\n",
            "\u001b[34m\u001b[1mwandb\u001b[0m:  train_acc ▁▅▆▇█\n",
            "\u001b[34m\u001b[1mwandb\u001b[0m: train_loss █▄▃▂▁\n",
            "\u001b[34m\u001b[1mwandb\u001b[0m:    val_acc ▁▄▆▇█\n",
            "\u001b[34m\u001b[1mwandb\u001b[0m:   val_loss █▅▃▃▁\n",
            "\u001b[34m\u001b[1mwandb\u001b[0m: \n",
            "\u001b[34m\u001b[1mwandb\u001b[0m: Run summary:\n",
            "\u001b[34m\u001b[1mwandb\u001b[0m:      epoch 5\n",
            "\u001b[34m\u001b[1mwandb\u001b[0m:         lr 0.001\n",
            "\u001b[34m\u001b[1mwandb\u001b[0m:  train_acc 55.152\n",
            "\u001b[34m\u001b[1mwandb\u001b[0m: train_loss 1.24595\n",
            "\u001b[34m\u001b[1mwandb\u001b[0m:    val_acc 57.23\n",
            "\u001b[34m\u001b[1mwandb\u001b[0m:   val_loss 1.18739\n",
            "\u001b[34m\u001b[1mwandb\u001b[0m: \n",
            "\u001b[34m\u001b[1mwandb\u001b[0m: 🚀 View run \u001b[33mresnet18-cifar10-baseline\u001b[0m at: \u001b[34m\u001b[4mhttps://wandb.ai/csvisrout-silicon-institute-of-technology-bhubaneswar/neuroprobe-baseline/runs/mddzd35q\u001b[0m\n",
            "\u001b[34m\u001b[1mwandb\u001b[0m: ⭐️ View project at: \u001b[34m\u001b[4mhttps://wandb.ai/csvisrout-silicon-institute-of-technology-bhubaneswar/neuroprobe-baseline\u001b[0m\n",
            "\u001b[34m\u001b[1mwandb\u001b[0m: Synced 5 W&B file(s), 0 media file(s), 0 artifact file(s) and 0 other file(s)\n",
            "\u001b[34m\u001b[1mwandb\u001b[0m: Find logs at: \u001b[35m\u001b[1m./wandb/run-20251023_131820-mddzd35q/logs\u001b[0m\n"
          ]
        }
      ]
    },
    {
      "cell_type": "code",
      "source": [
        "!git pull origin main"
      ],
      "metadata": {
        "colab": {
          "base_uri": "https://localhost:8080/"
        },
        "id": "SghvY8StLgvV",
        "outputId": "f4f2f59a-78a9-48e0-f4ad-c3b7263381c2"
      },
      "execution_count": null,
      "outputs": [
        {
          "output_type": "stream",
          "name": "stdout",
          "text": [
            "From https://github.com/csvis7/NeuroProbe-RepairNet\n",
            " * branch            main       -> FETCH_HEAD\n",
            "Already up to date.\n"
          ]
        }
      ]
    },
    {
      "cell_type": "code",
      "source": [
        "!cat configs/baseline.yaml\n"
      ],
      "metadata": {
        "colab": {
          "base_uri": "https://localhost:8080/"
        },
        "id": "1MM9ajdrMlfO",
        "outputId": "1a7955dd-83d6-475a-ed23-65b9dfa2ee8c"
      },
      "execution_count": null,
      "outputs": [
        {
          "output_type": "stream",
          "name": "stdout",
          "text": [
            "project: \"neuroprobe-baseline\"\n",
            "model: \"resnet18\"\n",
            "dataset: \"CIFAR10\"\n",
            "seed: 42\n",
            "device: \"cuda\"\n",
            "training:\n",
            "  epochs: 5\n",
            "  batch_size: 128\n",
            "  lr: 0.001\n",
            "  optimizer: \"adam\"\n",
            "  weight_decay: 0.0001\n",
            "\n",
            "experiment_dir: \"experiments/baseline\"\n",
            "\n",
            "wandb:\n",
            "  project: \"neuroprobe-baseline\"\n",
            "  run_name: \"resnet18-cifar10-baseline\"\n"
          ]
        }
      ]
    },
    {
      "cell_type": "code",
      "source": [
        "!git add configs/baseline.yaml\n",
        "!git add src/runner.py\n",
        "!git commit -m \"✅ Working ResNet18 baseline pipeline (CIFAR-10, W&B integrated)\"\n",
        "!git push origin main\n"
      ],
      "metadata": {
        "colab": {
          "base_uri": "https://localhost:8080/"
        },
        "id": "vvgZSXQEO77D",
        "outputId": "bb0607a3-d4ff-4196-bb9f-e3cd8ebe0308"
      },
      "execution_count": null,
      "outputs": [
        {
          "output_type": "stream",
          "name": "stdout",
          "text": [
            "Author identity unknown\n",
            "\n",
            "*** Please tell me who you are.\n",
            "\n",
            "Run\n",
            "\n",
            "  git config --global user.email \"you@example.com\"\n",
            "  git config --global user.name \"Your Name\"\n",
            "\n",
            "to set your account's default identity.\n",
            "Omit --global to set the identity only in this repository.\n",
            "\n",
            "fatal: unable to auto-detect email address (got 'root@7c1f10e44931.(none)')\n",
            "fatal: could not read Username for 'https://github.com': No such device or address\n"
          ]
        }
      ]
    },
    {
      "cell_type": "code",
      "source": [
        "!git push origin main"
      ],
      "metadata": {
        "colab": {
          "base_uri": "https://localhost:8080/"
        },
        "id": "HNxCHUPjPaMY",
        "outputId": "c9c71890-04fd-43f9-ed46-daebf323ed25"
      },
      "execution_count": null,
      "outputs": [
        {
          "output_type": "stream",
          "name": "stdout",
          "text": [
            "fatal: could not read Username for 'https://github.com': No such device or address\n"
          ]
        }
      ]
    },
    {
      "cell_type": "code",
      "source": [
        "!python src/runner.py --config configs/alexnet.yaml\n"
      ],
      "metadata": {
        "id": "x3S_SuROc33l"
      },
      "execution_count": null,
      "outputs": []
    }
  ]
}